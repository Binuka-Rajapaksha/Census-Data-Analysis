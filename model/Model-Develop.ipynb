{
 "cells": [
  {
   "cell_type": "code",
   "execution_count": null,
   "id": "7de1fca9-98ca-46e7-8e44-7a95e02348ce",
   "metadata": {},
   "outputs": [],
   "source": [
    "# Install required Libraries\n",
    "import numpy as np\n",
    "import pandas as pd\n",
    "import seaborn as sb\n",
    "import matplotlib.pyplot as plt\n",
    "import seaborn as sns\n",
    "from scipy import stats\n",
    "import warnings\n",
    "warnings.filterwarnings('ignore')"
   ]
  },
  {
   "cell_type": "markdown",
   "id": "3418a146d29ef555",
   "metadata": {
    "collapsed": false
   },
   "source": [
    "# Load the Dataset"
   ]
  },
  {
   "cell_type": "code",
   "execution_count": 594,
   "id": "38516c2f664fc5d4",
   "metadata": {
    "ExecuteTime": {
     "end_time": "2024-03-28T19:27:08.353039600Z",
     "start_time": "2024-03-28T19:27:00.701803Z"
    },
    "collapsed": false
   },
   "outputs": [
    {
     "data": {
      "text/html": [
       "<div>\n",
       "<style scoped>\n",
       "    .dataframe tbody tr th:only-of-type {\n",
       "        vertical-align: middle;\n",
       "    }\n",
       "\n",
       "    .dataframe tbody tr th {\n",
       "        vertical-align: top;\n",
       "    }\n",
       "\n",
       "    .dataframe thead th {\n",
       "        text-align: right;\n",
       "    }\n",
       "</style>\n",
       "<table border=\"1\" class=\"dataframe\">\n",
       "  <thead>\n",
       "    <tr style=\"text-align: right;\">\n",
       "      <th></th>\n",
       "      <th>age</th>\n",
       "      <th>workclass</th>\n",
       "      <th>fnlwgt</th>\n",
       "      <th>education</th>\n",
       "      <th>education-num</th>\n",
       "      <th>marital-status</th>\n",
       "      <th>occupation</th>\n",
       "      <th>relationship</th>\n",
       "      <th>race</th>\n",
       "      <th>sex</th>\n",
       "      <th>capital-gain</th>\n",
       "      <th>capital-loss</th>\n",
       "      <th>hours-per-week</th>\n",
       "      <th>native-country</th>\n",
       "      <th>income</th>\n",
       "    </tr>\n",
       "  </thead>\n",
       "  <tbody>\n",
       "    <tr>\n",
       "      <th>0</th>\n",
       "      <td>39</td>\n",
       "      <td>State-gov</td>\n",
       "      <td>77516</td>\n",
       "      <td>Bachelors</td>\n",
       "      <td>13</td>\n",
       "      <td>Never-married</td>\n",
       "      <td>Adm-clerical</td>\n",
       "      <td>Not-in-family</td>\n",
       "      <td>White</td>\n",
       "      <td>Male</td>\n",
       "      <td>2174</td>\n",
       "      <td>0</td>\n",
       "      <td>40</td>\n",
       "      <td>United-States</td>\n",
       "      <td>&lt;=50K</td>\n",
       "    </tr>\n",
       "    <tr>\n",
       "      <th>1</th>\n",
       "      <td>50</td>\n",
       "      <td>Self-emp-not-inc</td>\n",
       "      <td>83311</td>\n",
       "      <td>Bachelors</td>\n",
       "      <td>13</td>\n",
       "      <td>Married-civ-spouse</td>\n",
       "      <td>Exec-managerial</td>\n",
       "      <td>Husband</td>\n",
       "      <td>White</td>\n",
       "      <td>Male</td>\n",
       "      <td>0</td>\n",
       "      <td>0</td>\n",
       "      <td>13</td>\n",
       "      <td>United-States</td>\n",
       "      <td>&lt;=50K</td>\n",
       "    </tr>\n",
       "    <tr>\n",
       "      <th>2</th>\n",
       "      <td>38</td>\n",
       "      <td>Private</td>\n",
       "      <td>215646</td>\n",
       "      <td>HS-grad</td>\n",
       "      <td>9</td>\n",
       "      <td>Divorced</td>\n",
       "      <td>Handlers-cleaners</td>\n",
       "      <td>Not-in-family</td>\n",
       "      <td>White</td>\n",
       "      <td>Male</td>\n",
       "      <td>0</td>\n",
       "      <td>0</td>\n",
       "      <td>40</td>\n",
       "      <td>United-States</td>\n",
       "      <td>&lt;=50K</td>\n",
       "    </tr>\n",
       "    <tr>\n",
       "      <th>3</th>\n",
       "      <td>53</td>\n",
       "      <td>Private</td>\n",
       "      <td>234721</td>\n",
       "      <td>11th</td>\n",
       "      <td>7</td>\n",
       "      <td>Married-civ-spouse</td>\n",
       "      <td>Handlers-cleaners</td>\n",
       "      <td>Husband</td>\n",
       "      <td>Black</td>\n",
       "      <td>Male</td>\n",
       "      <td>0</td>\n",
       "      <td>0</td>\n",
       "      <td>40</td>\n",
       "      <td>United-States</td>\n",
       "      <td>&lt;=50K</td>\n",
       "    </tr>\n",
       "    <tr>\n",
       "      <th>4</th>\n",
       "      <td>28</td>\n",
       "      <td>Private</td>\n",
       "      <td>338409</td>\n",
       "      <td>Bachelors</td>\n",
       "      <td>13</td>\n",
       "      <td>Married-civ-spouse</td>\n",
       "      <td>Prof-specialty</td>\n",
       "      <td>Wife</td>\n",
       "      <td>Black</td>\n",
       "      <td>Female</td>\n",
       "      <td>0</td>\n",
       "      <td>0</td>\n",
       "      <td>40</td>\n",
       "      <td>Cuba</td>\n",
       "      <td>&lt;=50K</td>\n",
       "    </tr>\n",
       "  </tbody>\n",
       "</table>\n",
       "</div>"
      ],
      "text/plain": [
       "   age         workclass  fnlwgt  education  education-num  \\\n",
       "0   39         State-gov   77516  Bachelors             13   \n",
       "1   50  Self-emp-not-inc   83311  Bachelors             13   \n",
       "2   38           Private  215646    HS-grad              9   \n",
       "3   53           Private  234721       11th              7   \n",
       "4   28           Private  338409  Bachelors             13   \n",
       "\n",
       "       marital-status         occupation   relationship   race     sex  \\\n",
       "0       Never-married       Adm-clerical  Not-in-family  White    Male   \n",
       "1  Married-civ-spouse    Exec-managerial        Husband  White    Male   \n",
       "2            Divorced  Handlers-cleaners  Not-in-family  White    Male   \n",
       "3  Married-civ-spouse  Handlers-cleaners        Husband  Black    Male   \n",
       "4  Married-civ-spouse     Prof-specialty           Wife  Black  Female   \n",
       "\n",
       "   capital-gain  capital-loss  hours-per-week native-country income  \n",
       "0          2174             0              40  United-States  <=50K  \n",
       "1             0             0              13  United-States  <=50K  \n",
       "2             0             0              40  United-States  <=50K  \n",
       "3             0             0              40  United-States  <=50K  \n",
       "4             0             0              40           Cuba  <=50K  "
      ]
     },
     "execution_count": 594,
     "metadata": {},
     "output_type": "execute_result"
    }
   ],
   "source": [
    "# Load the dataset\n",
    "from ucimlrepo import fetch_ucirepo \n",
    "  \n",
    "# fetch dataset \n",
    "adult = fetch_ucirepo(id=2) \n",
    "  \n",
    "# data (as pandas dataframes) \n",
    "features = adult.data.features \n",
    "targets = adult.data.targets \n",
    "\n",
    "# Concatenate features and target\n",
    "dataset = pd.concat([features, targets], axis=1)\n",
    "dataset.head()"
   ]
  },
  {
   "cell_type": "code",
   "execution_count": 601,
   "id": "a3e697af10b4d392",
   "metadata": {
    "ExecuteTime": {
     "end_time": "2024-03-28T19:28:01.761417800Z",
     "start_time": "2024-03-28T19:28:01.728808200Z"
    },
    "collapsed": false
   },
   "outputs": [],
   "source": [
    "# make a copy of the dataset\n",
    "data = dataset.copy()"
   ]
  },
  {
   "cell_type": "code",
   "execution_count": 602,
   "id": "e92c9fa0536b8265",
   "metadata": {
    "ExecuteTime": {
     "end_time": "2024-03-28T19:28:03.816273Z",
     "start_time": "2024-03-28T19:28:03.809554500Z"
    },
    "collapsed": false
   },
   "outputs": [
    {
     "data": {
      "text/plain": [
       "(48842, 15)"
      ]
     },
     "execution_count": 602,
     "metadata": {},
     "output_type": "execute_result"
    }
   ],
   "source": [
    "# Checking the data shape\n",
    "data.shape"
   ]
  },
  {
   "cell_type": "code",
   "execution_count": 603,
   "id": "c56b8bcbfc2a40ed",
   "metadata": {
    "ExecuteTime": {
     "end_time": "2024-03-28T19:28:04.911847600Z",
     "start_time": "2024-03-28T19:28:04.880131500Z"
    },
    "collapsed": false
   },
   "outputs": [
    {
     "name": "stdout",
     "output_type": "stream",
     "text": [
      "<class 'pandas.core.frame.DataFrame'>\n",
      "RangeIndex: 48842 entries, 0 to 48841\n",
      "Data columns (total 15 columns):\n",
      " #   Column          Non-Null Count  Dtype \n",
      "---  ------          --------------  ----- \n",
      " 0   age             48842 non-null  int64 \n",
      " 1   workclass       47879 non-null  object\n",
      " 2   fnlwgt          48842 non-null  int64 \n",
      " 3   education       48842 non-null  object\n",
      " 4   education-num   48842 non-null  int64 \n",
      " 5   marital-status  48842 non-null  object\n",
      " 6   occupation      47876 non-null  object\n",
      " 7   relationship    48842 non-null  object\n",
      " 8   race            48842 non-null  object\n",
      " 9   sex             48842 non-null  object\n",
      " 10  capital-gain    48842 non-null  int64 \n",
      " 11  capital-loss    48842 non-null  int64 \n",
      " 12  hours-per-week  48842 non-null  int64 \n",
      " 13  native-country  48568 non-null  object\n",
      " 14  income          48842 non-null  object\n",
      "dtypes: int64(6), object(9)\n",
      "memory usage: 5.6+ MB\n"
     ]
    }
   ],
   "source": [
    "# Checking the data information\n",
    "data.info()"
   ]
  },
  {
   "cell_type": "code",
   "execution_count": 604,
   "id": "7dc256cf2d30be60",
   "metadata": {
    "ExecuteTime": {
     "end_time": "2024-03-28T19:28:06.000467Z",
     "start_time": "2024-03-28T19:28:05.987483100Z"
    },
    "collapsed": false
   },
   "outputs": [
    {
     "data": {
      "text/plain": [
       "age                 0\n",
       "workclass         963\n",
       "fnlwgt              0\n",
       "education           0\n",
       "education-num       0\n",
       "marital-status      0\n",
       "occupation        966\n",
       "relationship        0\n",
       "race                0\n",
       "sex                 0\n",
       "capital-gain        0\n",
       "capital-loss        0\n",
       "hours-per-week      0\n",
       "native-country    274\n",
       "income              0\n",
       "dtype: int64"
      ]
     },
     "execution_count": 604,
     "metadata": {},
     "output_type": "execute_result"
    }
   ],
   "source": [
    "# Checking null values\n",
    "data.isna().sum()"
   ]
  },
  {
   "cell_type": "code",
   "execution_count": 605,
   "id": "fbc34a9cde00982e",
   "metadata": {
    "ExecuteTime": {
     "end_time": "2024-03-28T19:28:07.360713300Z",
     "start_time": "2024-03-28T19:28:07.334659500Z"
    },
    "collapsed": false
   },
   "outputs": [
    {
     "name": "stdout",
     "output_type": "stream",
     "text": [
      "\n",
      "workclass: \n",
      "['State-gov' 'Self-emp-not-inc' 'Private' 'Federal-gov' 'Local-gov' '?'\n",
      " 'Self-emp-inc' 'Without-pay' 'Never-worked' nan]\n",
      "\n",
      "education: \n",
      "['Bachelors' 'HS-grad' '11th' 'Masters' '9th' 'Some-college' 'Assoc-acdm'\n",
      " 'Assoc-voc' '7th-8th' 'Doctorate' 'Prof-school' '5th-6th' '10th'\n",
      " '1st-4th' 'Preschool' '12th']\n",
      "\n",
      "marital-status: \n",
      "['Never-married' 'Married-civ-spouse' 'Divorced' 'Married-spouse-absent'\n",
      " 'Separated' 'Married-AF-spouse' 'Widowed']\n",
      "\n",
      "occupation: \n",
      "['Adm-clerical' 'Exec-managerial' 'Handlers-cleaners' 'Prof-specialty'\n",
      " 'Other-service' 'Sales' 'Craft-repair' 'Transport-moving'\n",
      " 'Farming-fishing' 'Machine-op-inspct' 'Tech-support' '?'\n",
      " 'Protective-serv' 'Armed-Forces' 'Priv-house-serv' nan]\n",
      "\n",
      "relationship: \n",
      "['Not-in-family' 'Husband' 'Wife' 'Own-child' 'Unmarried' 'Other-relative']\n",
      "\n",
      "race: \n",
      "['White' 'Black' 'Asian-Pac-Islander' 'Amer-Indian-Eskimo' 'Other']\n",
      "\n",
      "sex: \n",
      "['Male' 'Female']\n",
      "\n",
      "native-country: \n",
      "['United-States' 'Cuba' 'Jamaica' 'India' '?' 'Mexico' 'South'\n",
      " 'Puerto-Rico' 'Honduras' 'England' 'Canada' 'Germany' 'Iran'\n",
      " 'Philippines' 'Italy' 'Poland' 'Columbia' 'Cambodia' 'Thailand' 'Ecuador'\n",
      " 'Laos' 'Taiwan' 'Haiti' 'Portugal' 'Dominican-Republic' 'El-Salvador'\n",
      " 'France' 'Guatemala' 'China' 'Japan' 'Yugoslavia' 'Peru'\n",
      " 'Outlying-US(Guam-USVI-etc)' 'Scotland' 'Trinadad&Tobago' 'Greece'\n",
      " 'Nicaragua' 'Vietnam' 'Hong' 'Ireland' 'Hungary' 'Holand-Netherlands' nan]\n",
      "\n",
      "income: \n",
      "['<=50K' '>50K' '<=50K.' '>50K.']\n"
     ]
    }
   ],
   "source": [
    "# Identify unique values in categorical columns\n",
    "for column in data.columns:\n",
    "    if data[column].dtype == 'object':\n",
    "        unique_values = data[column].unique()\n",
    "        print(f\"\\n{column}: \\n{unique_values}\")"
   ]
  },
  {
   "cell_type": "code",
   "execution_count": 606,
   "id": "255925668f1cfd9f",
   "metadata": {
    "ExecuteTime": {
     "end_time": "2024-03-28T19:28:08.661861Z",
     "start_time": "2024-03-28T19:28:08.626778Z"
    },
    "collapsed": false
   },
   "outputs": [
    {
     "data": {
      "text/plain": [
       "age                  0\n",
       "workclass         1836\n",
       "fnlwgt               0\n",
       "education            0\n",
       "education-num        0\n",
       "marital-status       0\n",
       "occupation        1843\n",
       "relationship         0\n",
       "race                 0\n",
       "sex                  0\n",
       "capital-gain         0\n",
       "capital-loss         0\n",
       "hours-per-week       0\n",
       "native-country     583\n",
       "income               0\n",
       "dtype: int64"
      ]
     },
     "execution_count": 606,
     "metadata": {},
     "output_type": "execute_result"
    }
   ],
   "source": [
    "# Check for missing Values\n",
    "data.isin({'?'}).sum()"
   ]
  },
  {
   "cell_type": "code",
   "execution_count": 607,
   "id": "6defe1259a7e109",
   "metadata": {
    "ExecuteTime": {
     "end_time": "2024-03-28T19:28:10.204108200Z",
     "start_time": "2024-03-28T19:28:10.178731200Z"
    },
    "collapsed": false
   },
   "outputs": [],
   "source": [
    "# Replace \"?\" with NaN\n",
    "data.replace(\"?\", np.nan, inplace=True)"
   ]
  },
  {
   "cell_type": "code",
   "execution_count": 608,
   "id": "cf6c4c9cbb0ace45",
   "metadata": {
    "ExecuteTime": {
     "end_time": "2024-03-28T19:28:11.085540Z",
     "start_time": "2024-03-28T19:28:11.056949400Z"
    },
    "collapsed": false
   },
   "outputs": [
    {
     "data": {
      "text/plain": [
       "age                  0\n",
       "workclass         2799\n",
       "fnlwgt               0\n",
       "education            0\n",
       "education-num        0\n",
       "marital-status       0\n",
       "occupation        2809\n",
       "relationship         0\n",
       "race                 0\n",
       "sex                  0\n",
       "capital-gain         0\n",
       "capital-loss         0\n",
       "hours-per-week       0\n",
       "native-country     857\n",
       "income               0\n",
       "dtype: int64"
      ]
     },
     "execution_count": 608,
     "metadata": {},
     "output_type": "execute_result"
    }
   ],
   "source": [
    "# Check for NaN Values\n",
    "data.isna().sum()"
   ]
  },
  {
   "cell_type": "code",
   "execution_count": 611,
   "id": "4a3a1009f05e4785",
   "metadata": {
    "ExecuteTime": {
     "end_time": "2024-03-28T19:28:12.665617700Z",
     "start_time": "2024-03-28T19:28:12.634509300Z"
    },
    "collapsed": false
   },
   "outputs": [
    {
     "data": {
      "text/plain": [
       "age               0\n",
       "workclass         0\n",
       "fnlwgt            0\n",
       "education         0\n",
       "education-num     0\n",
       "marital-status    0\n",
       "occupation        0\n",
       "relationship      0\n",
       "race              0\n",
       "sex               0\n",
       "capital-gain      0\n",
       "capital-loss      0\n",
       "hours-per-week    0\n",
       "native-country    0\n",
       "income            0\n",
       "dtype: int64"
      ]
     },
     "execution_count": 611,
     "metadata": {},
     "output_type": "execute_result"
    }
   ],
   "source": [
    "# Drop rows with missing values\n",
    "data.dropna(inplace=True)\n",
    "data.isna().sum()"
   ]
  },
  {
   "cell_type": "code",
   "execution_count": 610,
   "id": "ce17af899d74a370",
   "metadata": {
    "ExecuteTime": {
     "end_time": "2024-03-28T19:28:13.200359200Z",
     "start_time": "2024-03-28T19:28:13.196110800Z"
    },
    "collapsed": false
   },
   "outputs": [
    {
     "data": {
      "text/plain": [
       "(45222, 15)"
      ]
     },
     "execution_count": 610,
     "metadata": {},
     "output_type": "execute_result"
    }
   ],
   "source": [
    "data.shape"
   ]
  },
  {
   "cell_type": "code",
   "execution_count": 367,
   "id": "f01da04af278379d",
   "metadata": {
    "ExecuteTime": {
     "end_time": "2024-03-28T19:28:13.757827400Z",
     "start_time": "2024-03-28T19:28:13.725965600Z"
    },
    "collapsed": false
   },
   "outputs": [
    {
     "data": {
      "text/plain": [
       "28"
      ]
     },
     "execution_count": 367,
     "metadata": {},
     "output_type": "execute_result"
    }
   ],
   "source": [
    "# Check for duplicate\n",
    "data.duplicated().sum()"
   ]
  },
  {
   "cell_type": "code",
   "execution_count": 368,
   "id": "4266a7253fcf5ddf",
   "metadata": {
    "ExecuteTime": {
     "end_time": "2024-03-28T19:28:14.450733900Z",
     "start_time": "2024-03-28T19:28:14.416377700Z"
    },
    "collapsed": false
   },
   "outputs": [],
   "source": [
    "# Drop duplicate rows\n",
    "data.drop_duplicates(inplace=True)"
   ]
  },
  {
   "cell_type": "code",
   "execution_count": 369,
   "id": "eb953cee1c0d7a4c",
   "metadata": {
    "ExecuteTime": {
     "end_time": "2024-03-28T19:28:15.241350500Z",
     "start_time": "2024-03-28T19:28:15.203337Z"
    },
    "collapsed": false
   },
   "outputs": [
    {
     "data": {
      "text/plain": [
       "0"
      ]
     },
     "execution_count": 369,
     "metadata": {},
     "output_type": "execute_result"
    }
   ],
   "source": [
    "# Verify\n",
    "data.duplicated().sum()"
   ]
  },
  {
   "cell_type": "code",
   "execution_count": 370,
   "id": "1fe88f675e6cc84b",
   "metadata": {
    "ExecuteTime": {
     "end_time": "2024-03-28T19:28:16.033222900Z",
     "start_time": "2024-03-28T19:28:16.022433300Z"
    },
    "collapsed": false
   },
   "outputs": [
    {
     "data": {
      "text/plain": [
       "(45194, 15)"
      ]
     },
     "execution_count": 370,
     "metadata": {},
     "output_type": "execute_result"
    }
   ],
   "source": [
    "# Check shape\n",
    "data.shape"
   ]
  },
  {
   "cell_type": "markdown",
   "id": "12022ed7c5949db2",
   "metadata": {
    "collapsed": false
   },
   "source": [
    "# I have dropped appr. 7.5% rows since they contained duplicates and missing values. I didn't use techniques like replacing them with mean and mode here. Because it may introduce bias when training."
   ]
  },
  {
   "cell_type": "code",
   "execution_count": 612,
   "id": "a6c40c4b-45c5-4de8-bc63-7e5aee8bd62e",
   "metadata": {},
   "outputs": [],
   "source": [
    "# dropping education column\n",
    "data = data.drop(columns = ['education'])"
   ]
  },
  {
   "cell_type": "markdown",
   "id": "4e3106d395ffba22",
   "metadata": {
    "collapsed": false
   },
   "source": [
    "# I dropped the education column since it was parallel with the education-num column"
   ]
  },
  {
   "cell_type": "code",
   "execution_count": 372,
   "id": "436295dc51d57ba5",
   "metadata": {
    "ExecuteTime": {
     "end_time": "2024-03-28T19:28:18.424694700Z",
     "start_time": "2024-03-28T19:28:17.550715700Z"
    },
    "collapsed": false
   },
   "outputs": [
    {
     "data": {
      "image/png": "[encoded data removed]",
      "text/plain": [
       "<Figure size 1600x800 with 6 Axes>"
      ]
     },
     "metadata": {},
     "output_type": "display_data"
    }
   ],
   "source": [
    "# Data Visualization\n",
    "numerical_features = ['age', 'fnlwgt', 'education-num', 'capital-gain', 'capital-loss', 'hours-per-week']\n",
    "\n",
    "# Visualize numerical features using box plots\n",
    "plt.figure(figsize=(16, 8))\n",
    "for i, feature in enumerate(numerical_features, start=1):\n",
    "    plt.subplot(2, 3, i)\n",
    "    sns.boxplot(x=data[feature])\n",
    "    plt.title(feature)\n",
    "plt.tight_layout()\n",
    "plt.show()"
   ]
  },
  {
   "cell_type": "code",
   "execution_count": 374,
   "id": "49407433425a1ecd",
   "metadata": {
    "ExecuteTime": {
     "end_time": "2024-03-28T19:28:21.369312700Z",
     "start_time": "2024-03-28T19:28:21.335696700Z"
    },
    "collapsed": false
   },
   "outputs": [
    {
     "data": {
      "text/html": [
       "<div>\n",
       "<style scoped>\n",
       "    .dataframe tbody tr th:only-of-type {\n",
       "        vertical-align: middle;\n",
       "    }\n",
       "\n",
       "    .dataframe tbody tr th {\n",
       "        vertical-align: top;\n",
       "    }\n",
       "\n",
       "    .dataframe thead th {\n",
       "        text-align: right;\n",
       "    }\n",
       "</style>\n",
       "<table border=\"1\" class=\"dataframe\">\n",
       "  <thead>\n",
       "    <tr style=\"text-align: right;\">\n",
       "      <th></th>\n",
       "      <th>count</th>\n",
       "      <th>mean</th>\n",
       "      <th>std</th>\n",
       "      <th>min</th>\n",
       "      <th>25%</th>\n",
       "      <th>50%</th>\n",
       "      <th>75%</th>\n",
       "      <th>max</th>\n",
       "    </tr>\n",
       "  </thead>\n",
       "  <tbody>\n",
       "    <tr>\n",
       "      <th>age</th>\n",
       "      <td>45194.0</td>\n",
       "      <td>38.551755</td>\n",
       "      <td>13.215806</td>\n",
       "      <td>17.0</td>\n",
       "      <td>28.00</td>\n",
       "      <td>37.0</td>\n",
       "      <td>47.0</td>\n",
       "      <td>90.0</td>\n",
       "    </tr>\n",
       "    <tr>\n",
       "      <th>fnlwgt</th>\n",
       "      <td>45194.0</td>\n",
       "      <td>189737.853056</td>\n",
       "      <td>105640.654414</td>\n",
       "      <td>13492.0</td>\n",
       "      <td>117392.25</td>\n",
       "      <td>178312.0</td>\n",
       "      <td>237903.0</td>\n",
       "      <td>1490400.0</td>\n",
       "    </tr>\n",
       "    <tr>\n",
       "      <th>education-num</th>\n",
       "      <td>45194.0</td>\n",
       "      <td>10.119109</td>\n",
       "      <td>2.552057</td>\n",
       "      <td>1.0</td>\n",
       "      <td>9.00</td>\n",
       "      <td>10.0</td>\n",
       "      <td>13.0</td>\n",
       "      <td>16.0</td>\n",
       "    </tr>\n",
       "    <tr>\n",
       "      <th>capital-gain</th>\n",
       "      <td>45194.0</td>\n",
       "      <td>1102.112736</td>\n",
       "      <td>7508.705003</td>\n",
       "      <td>0.0</td>\n",
       "      <td>0.00</td>\n",
       "      <td>0.0</td>\n",
       "      <td>0.0</td>\n",
       "      <td>99999.0</td>\n",
       "    </tr>\n",
       "    <tr>\n",
       "      <th>capital-loss</th>\n",
       "      <td>45194.0</td>\n",
       "      <td>88.650308</td>\n",
       "      <td>405.075515</td>\n",
       "      <td>0.0</td>\n",
       "      <td>0.00</td>\n",
       "      <td>0.0</td>\n",
       "      <td>0.0</td>\n",
       "      <td>4356.0</td>\n",
       "    </tr>\n",
       "    <tr>\n",
       "      <th>hours-per-week</th>\n",
       "      <td>45194.0</td>\n",
       "      <td>40.941209</td>\n",
       "      <td>12.006449</td>\n",
       "      <td>1.0</td>\n",
       "      <td>40.00</td>\n",
       "      <td>40.0</td>\n",
       "      <td>45.0</td>\n",
       "      <td>99.0</td>\n",
       "    </tr>\n",
       "  </tbody>\n",
       "</table>\n",
       "</div>"
      ],
      "text/plain": [
       "                  count           mean            std      min        25%  \\\n",
       "age             45194.0      38.551755      13.215806     17.0      28.00   \n",
       "fnlwgt          45194.0  189737.853056  105640.654414  13492.0  117392.25   \n",
       "education-num   45194.0      10.119109       2.552057      1.0       9.00   \n",
       "capital-gain    45194.0    1102.112736    7508.705003      0.0       0.00   \n",
       "capital-loss    45194.0      88.650308     405.075515      0.0       0.00   \n",
       "hours-per-week  45194.0      40.941209      12.006449      1.0      40.00   \n",
       "\n",
       "                     50%       75%        max  \n",
       "age                 37.0      47.0       90.0  \n",
       "fnlwgt          178312.0  237903.0  1490400.0  \n",
       "education-num       10.0      13.0       16.0  \n",
       "capital-gain         0.0       0.0    99999.0  \n",
       "capital-loss         0.0       0.0     4356.0  \n",
       "hours-per-week      40.0      45.0       99.0  "
      ]
     },
     "execution_count": 374,
     "metadata": {},
     "output_type": "execute_result"
    }
   ],
   "source": [
    "data.describe().T"
   ]
  },
  {
   "cell_type": "code",
   "execution_count": 375,
   "id": "42af562e53626a34",
   "metadata": {
    "ExecuteTime": {
     "end_time": "2024-03-28T19:28:23.230596300Z",
     "start_time": "2024-03-28T19:28:23.193120300Z"
    },
    "collapsed": false
   },
   "outputs": [
    {
     "data": {
      "text/html": [
       "<div>\n",
       "<style scoped>\n",
       "    .dataframe tbody tr th:only-of-type {\n",
       "        vertical-align: middle;\n",
       "    }\n",
       "\n",
       "    .dataframe tbody tr th {\n",
       "        vertical-align: top;\n",
       "    }\n",
       "\n",
       "    .dataframe thead th {\n",
       "        text-align: right;\n",
       "    }\n",
       "</style>\n",
       "<table border=\"1\" class=\"dataframe\">\n",
       "  <thead>\n",
       "    <tr style=\"text-align: right;\">\n",
       "      <th></th>\n",
       "      <th>count</th>\n",
       "      <th>mean</th>\n",
       "      <th>std</th>\n",
       "      <th>min</th>\n",
       "      <th>25%</th>\n",
       "      <th>50%</th>\n",
       "      <th>75%</th>\n",
       "      <th>max</th>\n",
       "    </tr>\n",
       "  </thead>\n",
       "  <tbody>\n",
       "    <tr>\n",
       "      <th>age</th>\n",
       "      <td>45194.0</td>\n",
       "      <td>38.418219</td>\n",
       "      <td>12.819355</td>\n",
       "      <td>18.0</td>\n",
       "      <td>28.00</td>\n",
       "      <td>37.0</td>\n",
       "      <td>47.0</td>\n",
       "      <td>67.0</td>\n",
       "    </tr>\n",
       "    <tr>\n",
       "      <th>fnlwgt</th>\n",
       "      <td>45194.0</td>\n",
       "      <td>187317.507346</td>\n",
       "      <td>95999.361411</td>\n",
       "      <td>32372.0</td>\n",
       "      <td>117392.25</td>\n",
       "      <td>178312.0</td>\n",
       "      <td>237903.0</td>\n",
       "      <td>430828.0</td>\n",
       "    </tr>\n",
       "    <tr>\n",
       "      <th>education-num</th>\n",
       "      <td>45194.0</td>\n",
       "      <td>10.131433</td>\n",
       "      <td>2.457972</td>\n",
       "      <td>4.0</td>\n",
       "      <td>9.00</td>\n",
       "      <td>10.0</td>\n",
       "      <td>13.0</td>\n",
       "      <td>15.0</td>\n",
       "    </tr>\n",
       "    <tr>\n",
       "      <th>capital-gain</th>\n",
       "      <td>45194.0</td>\n",
       "      <td>500.133912</td>\n",
       "      <td>1808.031830</td>\n",
       "      <td>0.0</td>\n",
       "      <td>0.00</td>\n",
       "      <td>0.0</td>\n",
       "      <td>0.0</td>\n",
       "      <td>8614.0</td>\n",
       "    </tr>\n",
       "    <tr>\n",
       "      <th>capital-loss</th>\n",
       "      <td>45194.0</td>\n",
       "      <td>83.694849</td>\n",
       "      <td>378.722180</td>\n",
       "      <td>0.0</td>\n",
       "      <td>0.00</td>\n",
       "      <td>0.0</td>\n",
       "      <td>0.0</td>\n",
       "      <td>1887.0</td>\n",
       "    </tr>\n",
       "    <tr>\n",
       "      <th>hours-per-week</th>\n",
       "      <td>45194.0</td>\n",
       "      <td>40.872793</td>\n",
       "      <td>10.925764</td>\n",
       "      <td>15.0</td>\n",
       "      <td>40.00</td>\n",
       "      <td>40.0</td>\n",
       "      <td>45.0</td>\n",
       "      <td>70.0</td>\n",
       "    </tr>\n",
       "  </tbody>\n",
       "</table>\n",
       "</div>"
      ],
      "text/plain": [
       "                  count           mean           std      min        25%  \\\n",
       "age             45194.0      38.418219     12.819355     18.0      28.00   \n",
       "fnlwgt          45194.0  187317.507346  95999.361411  32372.0  117392.25   \n",
       "education-num   45194.0      10.131433      2.457972      4.0       9.00   \n",
       "capital-gain    45194.0     500.133912   1808.031830      0.0       0.00   \n",
       "capital-loss    45194.0      83.694849    378.722180      0.0       0.00   \n",
       "hours-per-week  45194.0      40.872793     10.925764     15.0      40.00   \n",
       "\n",
       "                     50%       75%       max  \n",
       "age                 37.0      47.0      67.0  \n",
       "fnlwgt          178312.0  237903.0  430828.0  \n",
       "education-num       10.0      13.0      15.0  \n",
       "capital-gain         0.0       0.0    8614.0  \n",
       "capital-loss         0.0       0.0    1887.0  \n",
       "hours-per-week      40.0      45.0      70.0  "
      ]
     },
     "execution_count": 375,
     "metadata": {},
     "output_type": "execute_result"
    }
   ],
   "source": [
    "from scipy.stats.mstats import winsorize\n",
    "import matplotlib.pyplot as plt\n",
    "\n",
    "# Perform winsorization on numerical columns\n",
    "winsorized_data = data.copy()\n",
    "\n",
    "# Winsorize at the 5th and 95th percentiles\n",
    "for col in numerical_features:\n",
    "    winsorized_data[col] = winsorize(data[col], limits=[0.025, 0.025])\n",
    "\n",
    "winsorized_data.describe().T"
   ]
  },
  {
   "cell_type": "code",
   "execution_count": 376,
   "id": "e582fecbac41df9e",
   "metadata": {
    "ExecuteTime": {
     "end_time": "2024-03-28T19:28:39.099630700Z",
     "start_time": "2024-03-28T19:28:38.289000700Z"
    },
    "collapsed": false
   },
   "outputs": [
    {
     "data": {
      "image/png": "[encoded data removed]",
      "text/plain": [
       "<Figure size 1600x800 with 6 Axes>"
      ]
     },
     "metadata": {},
     "output_type": "display_data"
    }
   ],
   "source": [
    "# Visualize numerical features using box plots\n",
    "plt.figure(figsize=(16, 8))\n",
    "for i, feature in enumerate(numerical_features, start=1):\n",
    "    plt.subplot(2, 3, i)\n",
    "    sns.boxplot(x=winsorized_data[feature])\n",
    "    plt.title(feature)\n",
    "plt.tight_layout()\n",
    "plt.show()"
   ]
  },
  {
   "cell_type": "code",
   "execution_count": 378,
   "id": "99b9569c5b789b0b",
   "metadata": {
    "ExecuteTime": {
     "end_time": "2024-03-28T19:28:40.639760900Z",
     "start_time": "2024-03-28T19:28:40.575716900Z"
    },
    "collapsed": false
   },
   "outputs": [],
   "source": [
    "# Replace income with binary values\n",
    "winsorized_data.replace([\"<=50K.\", \"<=50K\"], 0, inplace=True)\n",
    "\n",
    "winsorized_data.replace([\">50K.\", \">50K\"], 1, inplace=True)"
   ]
  },
  {
   "cell_type": "code",
   "execution_count": 379,
   "id": "f9e77f9d0dd6dae2",
   "metadata": {
    "ExecuteTime": {
     "end_time": "2024-03-28T19:28:41.754395500Z",
     "start_time": "2024-03-28T19:28:41.751368Z"
    },
    "collapsed": false
   },
   "outputs": [
    {
     "data": {
      "text/plain": [
       "income\n",
       "0    33988\n",
       "1    11206\n",
       "Name: count, dtype: int64"
      ]
     },
     "execution_count": 379,
     "metadata": {},
     "output_type": "execute_result"
    }
   ],
   "source": [
    "winsorized_data['income'].value_counts()"
   ]
  },
  {
   "cell_type": "code",
   "execution_count": 380,
   "id": "d35a2664cd68ad99",
   "metadata": {
    "ExecuteTime": {
     "end_time": "2024-03-28T19:28:43.005700200Z",
     "start_time": "2024-03-28T19:28:42.997579300Z"
    },
    "collapsed": false
   },
   "outputs": [],
   "source": [
    "numerical_columns = ['age', 'fnlwgt', 'education-num', 'capital-gain', 'capital-loss', 'hours-per-week', 'income']\n",
    "corr = winsorized_data[numerical_columns].corr()"
   ]
  },
  {
   "cell_type": "code",
   "execution_count": 381,
   "id": "b4e04de48b8da266",
   "metadata": {
    "ExecuteTime": {
     "end_time": "2024-03-28T19:28:43.975050100Z",
     "start_time": "2024-03-28T19:28:43.676429700Z"
    },
    "collapsed": false
   },
   "outputs": [
    {
     "data": {
      "text/plain": [
       "<Axes: >"
      ]
     },
     "execution_count": 381,
     "metadata": {},
     "output_type": "execute_result"
    },
    {
     "data": {
      "image/png": "[encoded data removed]",
      "text/plain": [
       "<Figure size 800x400 with 2 Axes>"
      ]
     },
     "metadata": {},
     "output_type": "display_data"
    }
   ],
   "source": [
    "plt.figure(figsize=(8,4))\n",
    "sns.heatmap(corr, annot=True)"
   ]
  },
  {
   "cell_type": "code",
   "execution_count": 382,
   "id": "7cabadf4847efc7a",
   "metadata": {
    "ExecuteTime": {
     "end_time": "2024-03-28T19:28:45.490571600Z",
     "start_time": "2024-03-28T19:28:45.472902Z"
    },
    "collapsed": false
   },
   "outputs": [],
   "source": [
    "# dropping columns with negative correlations with income\n",
    "winsorized_data = winsorized_data.drop(columns = ['fnlwgt'])"
   ]
  },
  {
   "cell_type": "code",
   "execution_count": 615,
   "id": "03870cda-507b-4fd6-9715-029399c11c33",
   "metadata": {},
   "outputs": [
    {
     "data": {
      "text/html": [
       "<div>\n",
       "<style scoped>\n",
       "    .dataframe tbody tr th:only-of-type {\n",
       "        vertical-align: middle;\n",
       "    }\n",
       "\n",
       "    .dataframe tbody tr th {\n",
       "        vertical-align: top;\n",
       "    }\n",
       "\n",
       "    .dataframe thead th {\n",
       "        text-align: right;\n",
       "    }\n",
       "</style>\n",
       "<table border=\"1\" class=\"dataframe\">\n",
       "  <thead>\n",
       "    <tr style=\"text-align: right;\">\n",
       "      <th></th>\n",
       "      <th>age</th>\n",
       "      <th>workclass</th>\n",
       "      <th>education-num</th>\n",
       "      <th>marital-status</th>\n",
       "      <th>occupation</th>\n",
       "      <th>relationship</th>\n",
       "      <th>race</th>\n",
       "      <th>sex</th>\n",
       "      <th>capital-gain</th>\n",
       "      <th>capital-loss</th>\n",
       "      <th>hours-per-week</th>\n",
       "      <th>native-country</th>\n",
       "      <th>income</th>\n",
       "    </tr>\n",
       "  </thead>\n",
       "  <tbody>\n",
       "    <tr>\n",
       "      <th>0</th>\n",
       "      <td>39</td>\n",
       "      <td>State-gov</td>\n",
       "      <td>13</td>\n",
       "      <td>Never-married</td>\n",
       "      <td>Adm-clerical</td>\n",
       "      <td>Not-in-family</td>\n",
       "      <td>White</td>\n",
       "      <td>Male</td>\n",
       "      <td>2174</td>\n",
       "      <td>0</td>\n",
       "      <td>40</td>\n",
       "      <td>United-States</td>\n",
       "      <td>0</td>\n",
       "    </tr>\n",
       "    <tr>\n",
       "      <th>1</th>\n",
       "      <td>50</td>\n",
       "      <td>Self-emp-not-inc</td>\n",
       "      <td>13</td>\n",
       "      <td>Married-civ-spouse</td>\n",
       "      <td>Exec-managerial</td>\n",
       "      <td>Husband</td>\n",
       "      <td>White</td>\n",
       "      <td>Male</td>\n",
       "      <td>0</td>\n",
       "      <td>0</td>\n",
       "      <td>15</td>\n",
       "      <td>United-States</td>\n",
       "      <td>0</td>\n",
       "    </tr>\n",
       "    <tr>\n",
       "      <th>2</th>\n",
       "      <td>38</td>\n",
       "      <td>Private</td>\n",
       "      <td>9</td>\n",
       "      <td>Divorced</td>\n",
       "      <td>Handlers-cleaners</td>\n",
       "      <td>Not-in-family</td>\n",
       "      <td>White</td>\n",
       "      <td>Male</td>\n",
       "      <td>0</td>\n",
       "      <td>0</td>\n",
       "      <td>40</td>\n",
       "      <td>United-States</td>\n",
       "      <td>0</td>\n",
       "    </tr>\n",
       "    <tr>\n",
       "      <th>3</th>\n",
       "      <td>53</td>\n",
       "      <td>Private</td>\n",
       "      <td>7</td>\n",
       "      <td>Married-civ-spouse</td>\n",
       "      <td>Handlers-cleaners</td>\n",
       "      <td>Husband</td>\n",
       "      <td>Black</td>\n",
       "      <td>Male</td>\n",
       "      <td>0</td>\n",
       "      <td>0</td>\n",
       "      <td>40</td>\n",
       "      <td>United-States</td>\n",
       "      <td>0</td>\n",
       "    </tr>\n",
       "    <tr>\n",
       "      <th>4</th>\n",
       "      <td>28</td>\n",
       "      <td>Private</td>\n",
       "      <td>13</td>\n",
       "      <td>Married-civ-spouse</td>\n",
       "      <td>Prof-specialty</td>\n",
       "      <td>Wife</td>\n",
       "      <td>Black</td>\n",
       "      <td>Female</td>\n",
       "      <td>0</td>\n",
       "      <td>0</td>\n",
       "      <td>40</td>\n",
       "      <td>Cuba</td>\n",
       "      <td>0</td>\n",
       "    </tr>\n",
       "  </tbody>\n",
       "</table>\n",
       "</div>"
      ],
      "text/plain": [
       "   age         workclass  education-num      marital-status  \\\n",
       "0   39         State-gov             13       Never-married   \n",
       "1   50  Self-emp-not-inc             13  Married-civ-spouse   \n",
       "2   38           Private              9            Divorced   \n",
       "3   53           Private              7  Married-civ-spouse   \n",
       "4   28           Private             13  Married-civ-spouse   \n",
       "\n",
       "          occupation   relationship   race     sex  capital-gain  \\\n",
       "0       Adm-clerical  Not-in-family  White    Male          2174   \n",
       "1    Exec-managerial        Husband  White    Male             0   \n",
       "2  Handlers-cleaners  Not-in-family  White    Male             0   \n",
       "3  Handlers-cleaners        Husband  Black    Male             0   \n",
       "4     Prof-specialty           Wife  Black  Female             0   \n",
       "\n",
       "   capital-loss  hours-per-week native-country  income  \n",
       "0             0              40  United-States       0  \n",
       "1             0              15  United-States       0  \n",
       "2             0              40  United-States       0  \n",
       "3             0              40  United-States       0  \n",
       "4             0              40           Cuba       0  "
      ]
     },
     "execution_count": 615,
     "metadata": {},
     "output_type": "execute_result"
    }
   ],
   "source": [
    "winsorized_data.head()"
   ]
  },
  {
   "cell_type": "markdown",
   "id": "e619e5cccbd93108",
   "metadata": {
    "collapsed": false
   },
   "source": [
    "# Label Encoding"
   ]
  },
  {
   "cell_type": "code",
   "execution_count": 570,
   "id": "9ac30912dca3dc44",
   "metadata": {
    "ExecuteTime": {
     "end_time": "2024-03-28T19:28:57.687350800Z",
     "start_time": "2024-03-28T19:28:57.681522300Z"
    },
    "collapsed": false
   },
   "outputs": [],
   "source": [
    "en_data = winsorized_data.copy()"
   ]
  },
  {
   "cell_type": "code",
   "execution_count": 571,
   "id": "7f28e23cca009463",
   "metadata": {
    "ExecuteTime": {
     "end_time": "2024-03-28T19:28:58.659855700Z",
     "start_time": "2024-03-28T19:28:58.457947200Z"
    },
    "collapsed": false
   },
   "outputs": [],
   "source": [
    "from sklearn.preprocessing import LabelEncoder\n",
    "\n",
    "le = LabelEncoder()\n",
    "\n",
    "en_data['workclass'] = le.fit_transform(en_data['workclass'])\n",
    "en_data['marital-status'] = le.fit_transform(en_data['marital-status'])\n",
    "en_data['occupation'] = le.fit_transform(en_data['occupation'])\n",
    "en_data['relationship'] = le.fit_transform(en_data['relationship'])\n",
    "en_data['race'] = le.fit_transform(en_data['race'])\n",
    "en_data['sex'] = le.fit_transform(en_data['sex'])\n",
    "en_data['native-country'] = le.fit_transform(en_data['native-country'])"
   ]
  },
  {
   "cell_type": "code",
   "execution_count": 616,
   "id": "8b99b4aba1dec486",
   "metadata": {
    "ExecuteTime": {
     "end_time": "2024-03-28T19:28:59.555300500Z",
     "start_time": "2024-03-28T19:28:59.543542500Z"
    },
    "collapsed": false
   },
   "outputs": [
    {
     "data": {
      "text/html": [
       "<div>\n",
       "<style scoped>\n",
       "    .dataframe tbody tr th:only-of-type {\n",
       "        vertical-align: middle;\n",
       "    }\n",
       "\n",
       "    .dataframe tbody tr th {\n",
       "        vertical-align: top;\n",
       "    }\n",
       "\n",
       "    .dataframe thead th {\n",
       "        text-align: right;\n",
       "    }\n",
       "</style>\n",
       "<table border=\"1\" class=\"dataframe\">\n",
       "  <thead>\n",
       "    <tr style=\"text-align: right;\">\n",
       "      <th></th>\n",
       "      <th>age</th>\n",
       "      <th>workclass</th>\n",
       "      <th>education-num</th>\n",
       "      <th>marital-status</th>\n",
       "      <th>occupation</th>\n",
       "      <th>relationship</th>\n",
       "      <th>race</th>\n",
       "      <th>sex</th>\n",
       "      <th>capital-gain</th>\n",
       "      <th>capital-loss</th>\n",
       "      <th>hours-per-week</th>\n",
       "      <th>native-country</th>\n",
       "      <th>income</th>\n",
       "    </tr>\n",
       "  </thead>\n",
       "  <tbody>\n",
       "    <tr>\n",
       "      <th>0</th>\n",
       "      <td>39</td>\n",
       "      <td>5</td>\n",
       "      <td>13</td>\n",
       "      <td>4</td>\n",
       "      <td>0</td>\n",
       "      <td>1</td>\n",
       "      <td>4</td>\n",
       "      <td>1</td>\n",
       "      <td>2174</td>\n",
       "      <td>0</td>\n",
       "      <td>40</td>\n",
       "      <td>38</td>\n",
       "      <td>0</td>\n",
       "    </tr>\n",
       "    <tr>\n",
       "      <th>1</th>\n",
       "      <td>50</td>\n",
       "      <td>4</td>\n",
       "      <td>13</td>\n",
       "      <td>2</td>\n",
       "      <td>3</td>\n",
       "      <td>0</td>\n",
       "      <td>4</td>\n",
       "      <td>1</td>\n",
       "      <td>0</td>\n",
       "      <td>0</td>\n",
       "      <td>15</td>\n",
       "      <td>38</td>\n",
       "      <td>0</td>\n",
       "    </tr>\n",
       "    <tr>\n",
       "      <th>2</th>\n",
       "      <td>38</td>\n",
       "      <td>2</td>\n",
       "      <td>9</td>\n",
       "      <td>0</td>\n",
       "      <td>5</td>\n",
       "      <td>1</td>\n",
       "      <td>4</td>\n",
       "      <td>1</td>\n",
       "      <td>0</td>\n",
       "      <td>0</td>\n",
       "      <td>40</td>\n",
       "      <td>38</td>\n",
       "      <td>0</td>\n",
       "    </tr>\n",
       "    <tr>\n",
       "      <th>3</th>\n",
       "      <td>53</td>\n",
       "      <td>2</td>\n",
       "      <td>7</td>\n",
       "      <td>2</td>\n",
       "      <td>5</td>\n",
       "      <td>0</td>\n",
       "      <td>2</td>\n",
       "      <td>1</td>\n",
       "      <td>0</td>\n",
       "      <td>0</td>\n",
       "      <td>40</td>\n",
       "      <td>38</td>\n",
       "      <td>0</td>\n",
       "    </tr>\n",
       "    <tr>\n",
       "      <th>4</th>\n",
       "      <td>28</td>\n",
       "      <td>2</td>\n",
       "      <td>13</td>\n",
       "      <td>2</td>\n",
       "      <td>9</td>\n",
       "      <td>5</td>\n",
       "      <td>2</td>\n",
       "      <td>0</td>\n",
       "      <td>0</td>\n",
       "      <td>0</td>\n",
       "      <td>40</td>\n",
       "      <td>4</td>\n",
       "      <td>0</td>\n",
       "    </tr>\n",
       "  </tbody>\n",
       "</table>\n",
       "</div>"
      ],
      "text/plain": [
       "   age  workclass  education-num  marital-status  occupation  relationship  \\\n",
       "0   39          5             13               4           0             1   \n",
       "1   50          4             13               2           3             0   \n",
       "2   38          2              9               0           5             1   \n",
       "3   53          2              7               2           5             0   \n",
       "4   28          2             13               2           9             5   \n",
       "\n",
       "   race  sex  capital-gain  capital-loss  hours-per-week  native-country  \\\n",
       "0     4    1          2174             0              40              38   \n",
       "1     4    1             0             0              15              38   \n",
       "2     4    1             0             0              40              38   \n",
       "3     2    1             0             0              40              38   \n",
       "4     2    0             0             0              40               4   \n",
       "\n",
       "   income  \n",
       "0       0  \n",
       "1       0  \n",
       "2       0  \n",
       "3       0  \n",
       "4       0  "
      ]
     },
     "execution_count": 616,
     "metadata": {},
     "output_type": "execute_result"
    }
   ],
   "source": [
    "en_data.head()"
   ]
  },
  {
   "cell_type": "code",
   "execution_count": 617,
   "id": "d1913afb-5575-4992-8254-1369b5cf85e6",
   "metadata": {},
   "outputs": [
    {
     "data": {
      "text/plain": [
       "income\n",
       "0    33988\n",
       "1    11206\n",
       "Name: count, dtype: int64"
      ]
     },
     "execution_count": 617,
     "metadata": {},
     "output_type": "execute_result"
    }
   ],
   "source": [
    "en_data['income'].value_counts()"
   ]
  },
  {
   "cell_type": "code",
   "execution_count": 618,
   "id": "f851af6f-1f5a-42df-9476-4d1fa47c2b08",
   "metadata": {},
   "outputs": [],
   "source": [
    "# Import SMOTE\n",
    "from imblearn.over_sampling import SMOTE\n",
    "\n",
    "# Initialize SMOTE\n",
    "smote = SMOTE(random_state=42)\n",
    "\n",
    "# Apply SMOTE\n",
    "smote_features, smote_target = smote.fit_resample(en_data.drop('income', axis=1), en_data['income'])\n",
    "\n",
    "# Concatenate SMOTE features and target\n",
    "balanced_data = pd.concat([smote_features, smote_target], axis=1)\n",
    "\n",
    "# shuffle the balanced data\n",
    "balanced_data = balanced_data.sample(frac=1, random_state=42).reset_index(drop=True)"
   ]
  },
  {
   "cell_type": "code",
   "execution_count": 620,
   "id": "d06c9e18-54c8-451d-a0d5-89df1b90bf45",
   "metadata": {},
   "outputs": [
    {
     "data": {
      "text/plain": [
       "income\n",
       "1    33988\n",
       "0    33988\n",
       "Name: count, dtype: int64"
      ]
     },
     "execution_count": 620,
     "metadata": {},
     "output_type": "execute_result"
    }
   ],
   "source": [
    "balanced_data['income'].value_counts()"
   ]
  },
  {
   "cell_type": "code",
   "execution_count": 621,
   "id": "6b4a8520-9458-4b2f-9c08-32948981fd09",
   "metadata": {},
   "outputs": [
    {
     "data": {
      "text/html": [
       "<div>\n",
       "<style scoped>\n",
       "    .dataframe tbody tr th:only-of-type {\n",
       "        vertical-align: middle;\n",
       "    }\n",
       "\n",
       "    .dataframe tbody tr th {\n",
       "        vertical-align: top;\n",
       "    }\n",
       "\n",
       "    .dataframe thead th {\n",
       "        text-align: right;\n",
       "    }\n",
       "</style>\n",
       "<table border=\"1\" class=\"dataframe\">\n",
       "  <thead>\n",
       "    <tr style=\"text-align: right;\">\n",
       "      <th></th>\n",
       "      <th>age</th>\n",
       "      <th>workclass</th>\n",
       "      <th>education-num</th>\n",
       "      <th>marital-status</th>\n",
       "      <th>occupation</th>\n",
       "      <th>relationship</th>\n",
       "      <th>race</th>\n",
       "      <th>sex</th>\n",
       "      <th>capital-gain</th>\n",
       "      <th>capital-loss</th>\n",
       "      <th>hours-per-week</th>\n",
       "      <th>native-country</th>\n",
       "      <th>income</th>\n",
       "    </tr>\n",
       "  </thead>\n",
       "  <tbody>\n",
       "    <tr>\n",
       "      <th>0</th>\n",
       "      <td>45</td>\n",
       "      <td>2</td>\n",
       "      <td>15</td>\n",
       "      <td>2</td>\n",
       "      <td>9</td>\n",
       "      <td>0</td>\n",
       "      <td>4</td>\n",
       "      <td>1</td>\n",
       "      <td>0</td>\n",
       "      <td>0</td>\n",
       "      <td>60</td>\n",
       "      <td>38</td>\n",
       "      <td>1</td>\n",
       "    </tr>\n",
       "    <tr>\n",
       "      <th>1</th>\n",
       "      <td>20</td>\n",
       "      <td>2</td>\n",
       "      <td>9</td>\n",
       "      <td>4</td>\n",
       "      <td>7</td>\n",
       "      <td>3</td>\n",
       "      <td>4</td>\n",
       "      <td>1</td>\n",
       "      <td>0</td>\n",
       "      <td>0</td>\n",
       "      <td>50</td>\n",
       "      <td>38</td>\n",
       "      <td>0</td>\n",
       "    </tr>\n",
       "    <tr>\n",
       "      <th>2</th>\n",
       "      <td>34</td>\n",
       "      <td>2</td>\n",
       "      <td>13</td>\n",
       "      <td>2</td>\n",
       "      <td>3</td>\n",
       "      <td>0</td>\n",
       "      <td>4</td>\n",
       "      <td>1</td>\n",
       "      <td>0</td>\n",
       "      <td>1887</td>\n",
       "      <td>45</td>\n",
       "      <td>38</td>\n",
       "      <td>1</td>\n",
       "    </tr>\n",
       "    <tr>\n",
       "      <th>3</th>\n",
       "      <td>51</td>\n",
       "      <td>2</td>\n",
       "      <td>9</td>\n",
       "      <td>2</td>\n",
       "      <td>2</td>\n",
       "      <td>0</td>\n",
       "      <td>4</td>\n",
       "      <td>1</td>\n",
       "      <td>0</td>\n",
       "      <td>0</td>\n",
       "      <td>40</td>\n",
       "      <td>38</td>\n",
       "      <td>1</td>\n",
       "    </tr>\n",
       "    <tr>\n",
       "      <th>4</th>\n",
       "      <td>19</td>\n",
       "      <td>2</td>\n",
       "      <td>9</td>\n",
       "      <td>4</td>\n",
       "      <td>2</td>\n",
       "      <td>3</td>\n",
       "      <td>4</td>\n",
       "      <td>1</td>\n",
       "      <td>0</td>\n",
       "      <td>0</td>\n",
       "      <td>20</td>\n",
       "      <td>38</td>\n",
       "      <td>0</td>\n",
       "    </tr>\n",
       "    <tr>\n",
       "      <th>...</th>\n",
       "      <td>...</td>\n",
       "      <td>...</td>\n",
       "      <td>...</td>\n",
       "      <td>...</td>\n",
       "      <td>...</td>\n",
       "      <td>...</td>\n",
       "      <td>...</td>\n",
       "      <td>...</td>\n",
       "      <td>...</td>\n",
       "      <td>...</td>\n",
       "      <td>...</td>\n",
       "      <td>...</td>\n",
       "      <td>...</td>\n",
       "    </tr>\n",
       "    <tr>\n",
       "      <th>67971</th>\n",
       "      <td>49</td>\n",
       "      <td>2</td>\n",
       "      <td>10</td>\n",
       "      <td>2</td>\n",
       "      <td>7</td>\n",
       "      <td>2</td>\n",
       "      <td>4</td>\n",
       "      <td>1</td>\n",
       "      <td>0</td>\n",
       "      <td>0</td>\n",
       "      <td>35</td>\n",
       "      <td>38</td>\n",
       "      <td>0</td>\n",
       "    </tr>\n",
       "    <tr>\n",
       "      <th>67972</th>\n",
       "      <td>38</td>\n",
       "      <td>4</td>\n",
       "      <td>9</td>\n",
       "      <td>2</td>\n",
       "      <td>9</td>\n",
       "      <td>0</td>\n",
       "      <td>4</td>\n",
       "      <td>1</td>\n",
       "      <td>0</td>\n",
       "      <td>0</td>\n",
       "      <td>50</td>\n",
       "      <td>38</td>\n",
       "      <td>1</td>\n",
       "    </tr>\n",
       "    <tr>\n",
       "      <th>67973</th>\n",
       "      <td>49</td>\n",
       "      <td>3</td>\n",
       "      <td>14</td>\n",
       "      <td>0</td>\n",
       "      <td>9</td>\n",
       "      <td>4</td>\n",
       "      <td>4</td>\n",
       "      <td>0</td>\n",
       "      <td>0</td>\n",
       "      <td>0</td>\n",
       "      <td>62</td>\n",
       "      <td>1</td>\n",
       "      <td>1</td>\n",
       "    </tr>\n",
       "    <tr>\n",
       "      <th>67974</th>\n",
       "      <td>37</td>\n",
       "      <td>2</td>\n",
       "      <td>9</td>\n",
       "      <td>2</td>\n",
       "      <td>2</td>\n",
       "      <td>0</td>\n",
       "      <td>4</td>\n",
       "      <td>1</td>\n",
       "      <td>0</td>\n",
       "      <td>0</td>\n",
       "      <td>70</td>\n",
       "      <td>38</td>\n",
       "      <td>1</td>\n",
       "    </tr>\n",
       "    <tr>\n",
       "      <th>67975</th>\n",
       "      <td>49</td>\n",
       "      <td>2</td>\n",
       "      <td>9</td>\n",
       "      <td>2</td>\n",
       "      <td>2</td>\n",
       "      <td>0</td>\n",
       "      <td>4</td>\n",
       "      <td>1</td>\n",
       "      <td>0</td>\n",
       "      <td>0</td>\n",
       "      <td>40</td>\n",
       "      <td>38</td>\n",
       "      <td>1</td>\n",
       "    </tr>\n",
       "  </tbody>\n",
       "</table>\n",
       "<p>67976 rows × 13 columns</p>\n",
       "</div>"
      ],
      "text/plain": [
       "       age  workclass  education-num  marital-status  occupation  \\\n",
       "0       45          2             15               2           9   \n",
       "1       20          2              9               4           7   \n",
       "2       34          2             13               2           3   \n",
       "3       51          2              9               2           2   \n",
       "4       19          2              9               4           2   \n",
       "...    ...        ...            ...             ...         ...   \n",
       "67971   49          2             10               2           7   \n",
       "67972   38          4              9               2           9   \n",
       "67973   49          3             14               0           9   \n",
       "67974   37          2              9               2           2   \n",
       "67975   49          2              9               2           2   \n",
       "\n",
       "       relationship  race  sex  capital-gain  capital-loss  hours-per-week  \\\n",
       "0                 0     4    1             0             0              60   \n",
       "1                 3     4    1             0             0              50   \n",
       "2                 0     4    1             0          1887              45   \n",
       "3                 0     4    1             0             0              40   \n",
       "4                 3     4    1             0             0              20   \n",
       "...             ...   ...  ...           ...           ...             ...   \n",
       "67971             2     4    1             0             0              35   \n",
       "67972             0     4    1             0             0              50   \n",
       "67973             4     4    0             0             0              62   \n",
       "67974             0     4    1             0             0              70   \n",
       "67975             0     4    1             0             0              40   \n",
       "\n",
       "       native-country  income  \n",
       "0                  38       1  \n",
       "1                  38       0  \n",
       "2                  38       1  \n",
       "3                  38       1  \n",
       "4                  38       0  \n",
       "...               ...     ...  \n",
       "67971              38       0  \n",
       "67972              38       1  \n",
       "67973               1       1  \n",
       "67974              38       1  \n",
       "67975              38       1  \n",
       "\n",
       "[67976 rows x 13 columns]"
      ]
     },
     "execution_count": 621,
     "metadata": {},
     "output_type": "execute_result"
    }
   ],
   "source": [
    "balanced_data"
   ]
  },
  {
   "cell_type": "code",
   "execution_count": 659,
   "id": "61783dede1468844",
   "metadata": {
    "ExecuteTime": {
     "end_time": "2024-03-28T19:29:17.378177Z",
     "start_time": "2024-03-28T19:29:17.376200500Z"
    },
    "collapsed": false
   },
   "outputs": [],
   "source": [
    "# Separate features (X) and target variable (y)\n",
    "X = balanced_data.drop('income', axis=1)\n",
    "y = balanced_data['income']"
   ]
  },
  {
   "cell_type": "code",
   "execution_count": 660,
   "id": "b6e785d1-9cc3-4cd7-b89b-602d60549997",
   "metadata": {},
   "outputs": [
    {
     "data": {
      "text/html": [
       "<div>\n",
       "<style scoped>\n",
       "    .dataframe tbody tr th:only-of-type {\n",
       "        vertical-align: middle;\n",
       "    }\n",
       "\n",
       "    .dataframe tbody tr th {\n",
       "        vertical-align: top;\n",
       "    }\n",
       "\n",
       "    .dataframe thead th {\n",
       "        text-align: right;\n",
       "    }\n",
       "</style>\n",
       "<table border=\"1\" class=\"dataframe\">\n",
       "  <thead>\n",
       "    <tr style=\"text-align: right;\">\n",
       "      <th></th>\n",
       "      <th>count</th>\n",
       "      <th>mean</th>\n",
       "      <th>std</th>\n",
       "      <th>min</th>\n",
       "      <th>25%</th>\n",
       "      <th>50%</th>\n",
       "      <th>75%</th>\n",
       "      <th>max</th>\n",
       "    </tr>\n",
       "  </thead>\n",
       "  <tbody>\n",
       "    <tr>\n",
       "      <th>age</th>\n",
       "      <td>67976.0</td>\n",
       "      <td>40.148994</td>\n",
       "      <td>12.163563</td>\n",
       "      <td>18.0</td>\n",
       "      <td>31.0</td>\n",
       "      <td>40.0</td>\n",
       "      <td>49.0</td>\n",
       "      <td>67.0</td>\n",
       "    </tr>\n",
       "    <tr>\n",
       "      <th>workclass</th>\n",
       "      <td>67976.0</td>\n",
       "      <td>2.142948</td>\n",
       "      <td>0.930762</td>\n",
       "      <td>0.0</td>\n",
       "      <td>2.0</td>\n",
       "      <td>2.0</td>\n",
       "      <td>2.0</td>\n",
       "      <td>6.0</td>\n",
       "    </tr>\n",
       "    <tr>\n",
       "      <th>education-num</th>\n",
       "      <td>67976.0</td>\n",
       "      <td>10.539941</td>\n",
       "      <td>2.430623</td>\n",
       "      <td>4.0</td>\n",
       "      <td>9.0</td>\n",
       "      <td>10.0</td>\n",
       "      <td>13.0</td>\n",
       "      <td>15.0</td>\n",
       "    </tr>\n",
       "    <tr>\n",
       "      <th>marital-status</th>\n",
       "      <td>67976.0</td>\n",
       "      <td>2.391167</td>\n",
       "      <td>1.311420</td>\n",
       "      <td>0.0</td>\n",
       "      <td>2.0</td>\n",
       "      <td>2.0</td>\n",
       "      <td>4.0</td>\n",
       "      <td>6.0</td>\n",
       "    </tr>\n",
       "    <tr>\n",
       "      <th>occupation</th>\n",
       "      <td>67976.0</td>\n",
       "      <td>6.028716</td>\n",
       "      <td>3.988136</td>\n",
       "      <td>0.0</td>\n",
       "      <td>3.0</td>\n",
       "      <td>6.0</td>\n",
       "      <td>9.0</td>\n",
       "      <td>13.0</td>\n",
       "    </tr>\n",
       "    <tr>\n",
       "      <th>relationship</th>\n",
       "      <td>67976.0</td>\n",
       "      <td>1.124529</td>\n",
       "      <td>1.588858</td>\n",
       "      <td>0.0</td>\n",
       "      <td>0.0</td>\n",
       "      <td>0.0</td>\n",
       "      <td>2.0</td>\n",
       "      <td>5.0</td>\n",
       "    </tr>\n",
       "    <tr>\n",
       "      <th>race</th>\n",
       "      <td>67976.0</td>\n",
       "      <td>3.715620</td>\n",
       "      <td>0.781090</td>\n",
       "      <td>0.0</td>\n",
       "      <td>4.0</td>\n",
       "      <td>4.0</td>\n",
       "      <td>4.0</td>\n",
       "      <td>4.0</td>\n",
       "    </tr>\n",
       "    <tr>\n",
       "      <th>sex</th>\n",
       "      <td>67976.0</td>\n",
       "      <td>0.725006</td>\n",
       "      <td>0.446515</td>\n",
       "      <td>0.0</td>\n",
       "      <td>0.0</td>\n",
       "      <td>1.0</td>\n",
       "      <td>1.0</td>\n",
       "      <td>1.0</td>\n",
       "    </tr>\n",
       "    <tr>\n",
       "      <th>capital-gain</th>\n",
       "      <td>67976.0</td>\n",
       "      <td>869.026627</td>\n",
       "      <td>2403.802093</td>\n",
       "      <td>0.0</td>\n",
       "      <td>0.0</td>\n",
       "      <td>0.0</td>\n",
       "      <td>0.0</td>\n",
       "      <td>8614.0</td>\n",
       "    </tr>\n",
       "    <tr>\n",
       "      <th>capital-loss</th>\n",
       "      <td>67976.0</td>\n",
       "      <td>117.356699</td>\n",
       "      <td>448.442080</td>\n",
       "      <td>0.0</td>\n",
       "      <td>0.0</td>\n",
       "      <td>0.0</td>\n",
       "      <td>0.0</td>\n",
       "      <td>1887.0</td>\n",
       "    </tr>\n",
       "    <tr>\n",
       "      <th>hours-per-week</th>\n",
       "      <td>67976.0</td>\n",
       "      <td>42.373058</td>\n",
       "      <td>10.701044</td>\n",
       "      <td>15.0</td>\n",
       "      <td>40.0</td>\n",
       "      <td>40.0</td>\n",
       "      <td>50.0</td>\n",
       "      <td>70.0</td>\n",
       "    </tr>\n",
       "    <tr>\n",
       "      <th>native-country</th>\n",
       "      <td>67976.0</td>\n",
       "      <td>36.473505</td>\n",
       "      <td>6.037568</td>\n",
       "      <td>0.0</td>\n",
       "      <td>38.0</td>\n",
       "      <td>38.0</td>\n",
       "      <td>38.0</td>\n",
       "      <td>40.0</td>\n",
       "    </tr>\n",
       "  </tbody>\n",
       "</table>\n",
       "</div>"
      ],
      "text/plain": [
       "                  count        mean          std   min   25%   50%   75%  \\\n",
       "age             67976.0   40.148994    12.163563  18.0  31.0  40.0  49.0   \n",
       "workclass       67976.0    2.142948     0.930762   0.0   2.0   2.0   2.0   \n",
       "education-num   67976.0   10.539941     2.430623   4.0   9.0  10.0  13.0   \n",
       "marital-status  67976.0    2.391167     1.311420   0.0   2.0   2.0   4.0   \n",
       "occupation      67976.0    6.028716     3.988136   0.0   3.0   6.0   9.0   \n",
       "relationship    67976.0    1.124529     1.588858   0.0   0.0   0.0   2.0   \n",
       "race            67976.0    3.715620     0.781090   0.0   4.0   4.0   4.0   \n",
       "sex             67976.0    0.725006     0.446515   0.0   0.0   1.0   1.0   \n",
       "capital-gain    67976.0  869.026627  2403.802093   0.0   0.0   0.0   0.0   \n",
       "capital-loss    67976.0  117.356699   448.442080   0.0   0.0   0.0   0.0   \n",
       "hours-per-week  67976.0   42.373058    10.701044  15.0  40.0  40.0  50.0   \n",
       "native-country  67976.0   36.473505     6.037568   0.0  38.0  38.0  38.0   \n",
       "\n",
       "                   max  \n",
       "age               67.0  \n",
       "workclass          6.0  \n",
       "education-num     15.0  \n",
       "marital-status     6.0  \n",
       "occupation        13.0  \n",
       "relationship       5.0  \n",
       "race               4.0  \n",
       "sex                1.0  \n",
       "capital-gain    8614.0  \n",
       "capital-loss    1887.0  \n",
       "hours-per-week    70.0  \n",
       "native-country    40.0  "
      ]
     },
     "execution_count": 660,
     "metadata": {},
     "output_type": "execute_result"
    }
   ],
   "source": [
    "X.describe().T"
   ]
  },
  {
   "cell_type": "code",
   "execution_count": 661,
   "id": "a5e6f764597efb78",
   "metadata": {
    "ExecuteTime": {
     "end_time": "2024-03-28T19:29:17.949626600Z",
     "start_time": "2024-03-28T19:29:17.924545900Z"
    },
    "collapsed": false
   },
   "outputs": [],
   "source": [
    "# Applying starndard scaling\n",
    "from sklearn.preprocessing import StandardScaler\n",
    "\n",
    "scaler = StandardScaler()\n",
    "scaler.fit(X)\n",
    "scaled_data = scaler.transform(X)\n",
    "\n",
    "# Convert the scaled data back to a DataFrame\n",
    "scaled_X = pd.DataFrame(scaled_data, columns=X.columns)"
   ]
  },
  {
   "cell_type": "code",
   "execution_count": 662,
   "id": "7683dd0e-8649-4afa-888f-98768eebd8a5",
   "metadata": {},
   "outputs": [
    {
     "data": {
      "text/html": [
       "<div>\n",
       "<style scoped>\n",
       "    .dataframe tbody tr th:only-of-type {\n",
       "        vertical-align: middle;\n",
       "    }\n",
       "\n",
       "    .dataframe tbody tr th {\n",
       "        vertical-align: top;\n",
       "    }\n",
       "\n",
       "    .dataframe thead th {\n",
       "        text-align: right;\n",
       "    }\n",
       "</style>\n",
       "<table border=\"1\" class=\"dataframe\">\n",
       "  <thead>\n",
       "    <tr style=\"text-align: right;\">\n",
       "      <th></th>\n",
       "      <th>count</th>\n",
       "      <th>mean</th>\n",
       "      <th>std</th>\n",
       "      <th>min</th>\n",
       "      <th>25%</th>\n",
       "      <th>50%</th>\n",
       "      <th>75%</th>\n",
       "      <th>max</th>\n",
       "    </tr>\n",
       "  </thead>\n",
       "  <tbody>\n",
       "    <tr>\n",
       "      <th>age</th>\n",
       "      <td>67976.0</td>\n",
       "      <td>2.138130e-16</td>\n",
       "      <td>1.000007</td>\n",
       "      <td>-1.820943</td>\n",
       "      <td>-0.752170</td>\n",
       "      <td>-0.012249</td>\n",
       "      <td>0.727671</td>\n",
       "      <td>2.207511</td>\n",
       "    </tr>\n",
       "    <tr>\n",
       "      <th>workclass</th>\n",
       "      <td>67976.0</td>\n",
       "      <td>9.616619e-17</td>\n",
       "      <td>1.000007</td>\n",
       "      <td>-2.302375</td>\n",
       "      <td>-0.153582</td>\n",
       "      <td>-0.153582</td>\n",
       "      <td>-0.153582</td>\n",
       "      <td>4.144003</td>\n",
       "    </tr>\n",
       "    <tr>\n",
       "      <th>education-num</th>\n",
       "      <td>67976.0</td>\n",
       "      <td>1.368278e-16</td>\n",
       "      <td>1.000007</td>\n",
       "      <td>-2.690663</td>\n",
       "      <td>-0.633563</td>\n",
       "      <td>-0.222142</td>\n",
       "      <td>1.012118</td>\n",
       "      <td>1.834958</td>\n",
       "    </tr>\n",
       "    <tr>\n",
       "      <th>marital-status</th>\n",
       "      <td>67976.0</td>\n",
       "      <td>-1.971407e-16</td>\n",
       "      <td>1.000007</td>\n",
       "      <td>-1.823356</td>\n",
       "      <td>-0.298280</td>\n",
       "      <td>-0.298280</td>\n",
       "      <td>1.226796</td>\n",
       "      <td>2.751872</td>\n",
       "    </tr>\n",
       "    <tr>\n",
       "      <th>occupation</th>\n",
       "      <td>67976.0</td>\n",
       "      <td>-1.240753e-16</td>\n",
       "      <td>1.000007</td>\n",
       "      <td>-1.511674</td>\n",
       "      <td>-0.759437</td>\n",
       "      <td>-0.007200</td>\n",
       "      <td>0.745036</td>\n",
       "      <td>1.748018</td>\n",
       "    </tr>\n",
       "    <tr>\n",
       "      <th>relationship</th>\n",
       "      <td>67976.0</td>\n",
       "      <td>-1.463399e-18</td>\n",
       "      <td>1.000007</td>\n",
       "      <td>-0.707765</td>\n",
       "      <td>-0.707765</td>\n",
       "      <td>-0.707765</td>\n",
       "      <td>0.551010</td>\n",
       "      <td>2.439173</td>\n",
       "    </tr>\n",
       "    <tr>\n",
       "      <th>race</th>\n",
       "      <td>67976.0</td>\n",
       "      <td>-3.606232e-17</td>\n",
       "      <td>1.000007</td>\n",
       "      <td>-4.757003</td>\n",
       "      <td>0.364083</td>\n",
       "      <td>0.364083</td>\n",
       "      <td>0.364083</td>\n",
       "      <td>0.364083</td>\n",
       "    </tr>\n",
       "    <tr>\n",
       "      <th>sex</th>\n",
       "      <td>67976.0</td>\n",
       "      <td>4.709008e-17</td>\n",
       "      <td>1.000007</td>\n",
       "      <td>-1.623712</td>\n",
       "      <td>-1.623712</td>\n",
       "      <td>0.615873</td>\n",
       "      <td>0.615873</td>\n",
       "      <td>0.615873</td>\n",
       "    </tr>\n",
       "    <tr>\n",
       "      <th>capital-gain</th>\n",
       "      <td>67976.0</td>\n",
       "      <td>7.641031e-17</td>\n",
       "      <td>1.000007</td>\n",
       "      <td>-0.361524</td>\n",
       "      <td>-0.361524</td>\n",
       "      <td>-0.361524</td>\n",
       "      <td>-0.361524</td>\n",
       "      <td>3.221992</td>\n",
       "    </tr>\n",
       "    <tr>\n",
       "      <th>capital-loss</th>\n",
       "      <td>67976.0</td>\n",
       "      <td>-7.233370e-17</td>\n",
       "      <td>1.000007</td>\n",
       "      <td>-0.261701</td>\n",
       "      <td>-0.261701</td>\n",
       "      <td>-0.261701</td>\n",
       "      <td>-0.261701</td>\n",
       "      <td>3.946232</td>\n",
       "    </tr>\n",
       "    <tr>\n",
       "      <th>hours-per-week</th>\n",
       "      <td>67976.0</td>\n",
       "      <td>-1.843882e-16</td>\n",
       "      <td>1.000007</td>\n",
       "      <td>-2.557999</td>\n",
       "      <td>-0.221761</td>\n",
       "      <td>-0.221761</td>\n",
       "      <td>0.712734</td>\n",
       "      <td>2.581724</td>\n",
       "    </tr>\n",
       "    <tr>\n",
       "      <th>native-country</th>\n",
       "      <td>67976.0</td>\n",
       "      <td>-2.996831e-16</td>\n",
       "      <td>1.000007</td>\n",
       "      <td>-6.041137</td>\n",
       "      <td>0.252835</td>\n",
       "      <td>0.252835</td>\n",
       "      <td>0.252835</td>\n",
       "      <td>0.584096</td>\n",
       "    </tr>\n",
       "  </tbody>\n",
       "</table>\n",
       "</div>"
      ],
      "text/plain": [
       "                  count          mean       std       min       25%       50%  \\\n",
       "age             67976.0  2.138130e-16  1.000007 -1.820943 -0.752170 -0.012249   \n",
       "workclass       67976.0  9.616619e-17  1.000007 -2.302375 -0.153582 -0.153582   \n",
       "education-num   67976.0  1.368278e-16  1.000007 -2.690663 -0.633563 -0.222142   \n",
       "marital-status  67976.0 -1.971407e-16  1.000007 -1.823356 -0.298280 -0.298280   \n",
       "occupation      67976.0 -1.240753e-16  1.000007 -1.511674 -0.759437 -0.007200   \n",
       "relationship    67976.0 -1.463399e-18  1.000007 -0.707765 -0.707765 -0.707765   \n",
       "race            67976.0 -3.606232e-17  1.000007 -4.757003  0.364083  0.364083   \n",
       "sex             67976.0  4.709008e-17  1.000007 -1.623712 -1.623712  0.615873   \n",
       "capital-gain    67976.0  7.641031e-17  1.000007 -0.361524 -0.361524 -0.361524   \n",
       "capital-loss    67976.0 -7.233370e-17  1.000007 -0.261701 -0.261701 -0.261701   \n",
       "hours-per-week  67976.0 -1.843882e-16  1.000007 -2.557999 -0.221761 -0.221761   \n",
       "native-country  67976.0 -2.996831e-16  1.000007 -6.041137  0.252835  0.252835   \n",
       "\n",
       "                     75%       max  \n",
       "age             0.727671  2.207511  \n",
       "workclass      -0.153582  4.144003  \n",
       "education-num   1.012118  1.834958  \n",
       "marital-status  1.226796  2.751872  \n",
       "occupation      0.745036  1.748018  \n",
       "relationship    0.551010  2.439173  \n",
       "race            0.364083  0.364083  \n",
       "sex             0.615873  0.615873  \n",
       "capital-gain   -0.361524  3.221992  \n",
       "capital-loss   -0.261701  3.946232  \n",
       "hours-per-week  0.712734  2.581724  \n",
       "native-country  0.252835  0.584096  "
      ]
     },
     "execution_count": 662,
     "metadata": {},
     "output_type": "execute_result"
    }
   ],
   "source": [
    "scaled_X.describe().T"
   ]
  },
  {
   "cell_type": "code",
   "execution_count": 663,
   "id": "964aef94c46386e9",
   "metadata": {
    "ExecuteTime": {
     "end_time": "2024-03-28T19:30:59.466317100Z",
     "start_time": "2024-03-28T19:30:59.440830800Z"
    },
    "collapsed": false
   },
   "outputs": [],
   "source": [
    "from sklearn.model_selection import train_test_split\n",
    "X_train, X_test, y_train, y_test = train_test_split(scaled_X, y, test_size = 0.20, random_state=42)"
   ]
  },
  {
   "cell_type": "code",
   "execution_count": 664,
   "id": "b0ccc6288f5982a6",
   "metadata": {
    "ExecuteTime": {
     "end_time": "2024-03-28T19:31:00.103299600Z",
     "start_time": "2024-03-28T19:31:00.089077200Z"
    },
    "collapsed": false
   },
   "outputs": [
    {
     "data": {
      "text/plain": [
       "((54380, 12), (13596, 12))"
      ]
     },
     "execution_count": 664,
     "metadata": {},
     "output_type": "execute_result"
    }
   ],
   "source": [
    "X_train.shape, X_test.shape"
   ]
  },
  {
   "cell_type": "code",
   "execution_count": 665,
   "id": "f81ca30f-5839-4e8e-a3c2-679c4e27e830",
   "metadata": {
    "ExecuteTime": {
     "end_time": "2024-03-28T19:31:00.638864700Z",
     "start_time": "2024-03-28T19:31:00.636084200Z"
    },
    "collapsed": false
   },
   "outputs": [],
   "source": [
    "def model_accuracy(model):\n",
    "    model.fit(X_train, y_train)\n",
    "    training_acc = model.score(X_train, y_train)\n",
    "    testing_acc = model.score(X_test, y_test)\n",
    "    print(str(model) + ' training accuarcy  ---> ' + str(training_acc))\n",
    "    print(str(model) + ' testing accuracy   ---> ' + str(testing_acc))"
   ]
  },
  {
   "cell_type": "markdown",
   "id": "a199f86c-da4e-4a48-9cb2-51c3affceb35",
   "metadata": {},
   "source": [
    "# RandomForest Model Training"
   ]
  },
  {
   "cell_type": "code",
   "execution_count": 666,
   "id": "fd955ca2868718b0",
   "metadata": {
    "ExecuteTime": {
     "end_time": "2024-03-28T19:31:02.304517100Z",
     "start_time": "2024-03-28T19:31:01.141587900Z"
    },
    "collapsed": false
   },
   "outputs": [
    {
     "name": "stdout",
     "output_type": "stream",
     "text": [
      "RandomForestClassifier() training accuarcy  ---> 0.9686465612357484\n",
      "RandomForestClassifier() testing accuracy   ---> 0.8751838776110621\n"
     ]
    }
   ],
   "source": [
    "from sklearn.ensemble import RandomForestClassifier\n",
    "rf = RandomForestClassifier()\n",
    "model_accuracy(rf)"
   ]
  },
  {
   "cell_type": "code",
   "execution_count": 667,
   "id": "d74e3a771e8987b9",
   "metadata": {
    "ExecuteTime": {
     "end_time": "2024-03-28T19:31:51.865246500Z",
     "start_time": "2024-03-28T19:31:10.254205100Z"
    },
    "collapsed": false
   },
   "outputs": [
    {
     "name": "stdout",
     "output_type": "stream",
     "text": [
      "Best Parameters: {'max_depth': None, 'min_samples_leaf': 4, 'min_samples_split': 4, 'n_estimators': 100}\n",
      "Best Score: 0.8627620779168595\n",
      "Training accuracy: 0.8941522618609783\n",
      "Testing accuracy: 0.8634157105030892\n"
     ]
    }
   ],
   "source": [
    "from sklearn.model_selection import GridSearchCV\n",
    "\n",
    "# Define the parameter grid to search\n",
    "parameters = {\n",
    "    'n_estimators': [100, 150, 200],\n",
    "    'max_depth': [None, 5],\n",
    "    'min_samples_split': [4, 7, 10],\n",
    "    'min_samples_leaf': [4, 6, 8]\n",
    "}\n",
    "\n",
    "# Create the GridSearchCV object\n",
    "grid_search = GridSearchCV(estimator=rf, param_grid=parameters, cv=3, scoring='accuracy', n_jobs=-1) \n",
    "\n",
    "# Perform the grid search\n",
    "grid_search.fit(X_train, y_train)\n",
    "\n",
    "# Get the best parameters and best score\n",
    "best_params = grid_search.best_params_\n",
    "best_score = grid_search.best_score_\n",
    "\n",
    "print(\"Best Parameters:\", best_params)\n",
    "print(\"Best Score:\", best_score)\n",
    "\n",
    "# Evaluate the best model on the test set\n",
    "best_rf = grid_search.best_estimator_\n",
    "best_rf.fit(X_train, y_train)\n",
    "training_acc = best_rf.score(X_train, y_train)\n",
    "testing_acc = best_rf.score(X_test, y_test)\n",
    "print(\"Training accuracy:\", training_acc)\n",
    "print(\"Testing accuracy:\", testing_acc)\n"
   ]
  },
  {
   "cell_type": "code",
   "execution_count": 686,
   "id": "7c187eac66c69c42",
   "metadata": {
    "ExecuteTime": {
     "end_time": "2024-03-28T19:42:08.583950400Z",
     "start_time": "2024-03-28T19:42:08.391225500Z"
    },
    "collapsed": false
   },
   "outputs": [
    {
     "name": "stdout",
     "output_type": "stream",
     "text": [
      "              precision    recall  f1-score   support\n",
      "\n",
      "           0       0.88      0.84      0.86      6728\n",
      "           1       0.85      0.89      0.87      6868\n",
      "\n",
      "    accuracy                           0.86     13596\n",
      "   macro avg       0.86      0.86      0.86     13596\n",
      "weighted avg       0.86      0.86      0.86     13596\n"
     ]
    }
   ],
   "source": [
    "from sklearn.metrics import accuracy_score, classification_report, confusion_matrix\n",
    "\n",
    "# Generate predictions for Random Forest\n",
    "y_pred_rf = best_rf.predict(X_test)\n",
    "\n",
    "print(classification_report(y_test, y_pred))"
   ]
  },
  {
   "cell_type": "code",
   "execution_count": 687,
   "id": "12fe737031a103d0",
   "metadata": {
    "ExecuteTime": {
     "end_time": "2024-03-28T19:42:13.484256100Z",
     "start_time": "2024-03-28T19:42:13.160688900Z"
    },
    "collapsed": false
   },
   "outputs": [
    {
     "data": {
      "image/png": "[encoded data removed]",
      "text/plain": [
       "<Figure size 640x480 with 2 Axes>"
      ]
     },
     "metadata": {},
     "output_type": "display_data"
    }
   ],
   "source": [
    "from sklearn.metrics import confusion_matrix, ConfusionMatrixDisplay, roc_auc_score, roc_curve\n",
    "\n",
    "# Calculate confusion matrix\n",
    "conf_matrix = confusion_matrix(y_test, y_pred_rf)\n",
    "\n",
    "# Plot confusion matrix with labels\n",
    "disp = ConfusionMatrixDisplay(confusion_matrix=conf_matrix,\n",
    "                              display_labels=['<=50K', '>50K'],)\n",
    "\n",
    "# Plot confusion matrix\n",
    "disp.plot(cmap=\"Blues\")\n",
    "\n",
    "# Add title and labels\n",
    "plt.title('Confusion Matrix for RandomForest')\n",
    "plt.xlabel('Predicted Label')\n",
    "plt.ylabel('True Label')\n",
    "\n",
    "# Display the plot\n",
    "plt.show()"
   ]
  },
  {
   "cell_type": "markdown",
   "id": "41cb5fb0-ba80-4e92-bfca-f7a023f2114c",
   "metadata": {},
   "source": [
    "# Naive Bayes Model Training"
   ]
  },
  {
   "cell_type": "code",
   "execution_count": 683,
   "id": "4f2bf950-5fc0-4e2f-a25c-dab67342fd36",
   "metadata": {},
   "outputs": [
    {
     "name": "stdout",
     "output_type": "stream",
     "text": [
      "GaussianNB() training accuarcy  ---> 0.7667157043030526\n",
      "GaussianNB() testing accuracy   ---> 0.7602971462194763\n"
     ]
    }
   ],
   "source": [
    "from sklearn.naive_bayes import GaussianNB\n",
    "nb = GaussianNB()\n",
    "model_accuracy(nb)"
   ]
  },
  {
   "cell_type": "code",
   "execution_count": 684,
   "id": "ae303c6e-954e-4c51-9cf7-334f5d70a216",
   "metadata": {},
   "outputs": [
    {
     "name": "stdout",
     "output_type": "stream",
     "text": [
      "              precision    recall  f1-score   support\n",
      "\n",
      "           0       0.72      0.84      0.78      6728\n",
      "           1       0.81      0.68      0.74      6868\n",
      "\n",
      "    accuracy                           0.76     13596\n",
      "   macro avg       0.77      0.76      0.76     13596\n",
      "weighted avg       0.77      0.76      0.76     13596\n"
     ]
    }
   ],
   "source": [
    "# Generate predictions for Naive Bayes\n",
    "y_pred_nb = nb.predict(X_test)\n",
    "\n",
    "print(classification_report(y_test, y_pred_nb))"
   ]
  },
  {
   "cell_type": "code",
   "execution_count": 685,
   "id": "0418b487-13e8-4d22-a742-221f371dc9f8",
   "metadata": {},
   "outputs": [
    {
     "data": {
      "image/png": "[encoded data removed]",
      "text/plain": [
       "<Figure size 640x480 with 2 Axes>"
      ]
     },
     "metadata": {},
     "output_type": "display_data"
    }
   ],
   "source": [
    "from sklearn.metrics import confusion_matrix, ConfusionMatrixDisplay\n",
    "\n",
    "# Calculate confusion matrix\n",
    "conf_matrix = confusion_matrix(y_test, y_pred_nb)\n",
    "\n",
    "# Plot confusion matrix with labels\n",
    "disp = ConfusionMatrixDisplay(confusion_matrix=conf_matrix,\n",
    "                              display_labels=['<=50K', '>50K'],)\n",
    "\n",
    "# Plot confusion matrix\n",
    "disp.plot(cmap=\"Blues\")\n",
    "\n",
    "# Add title and labels\n",
    "plt.title('Confusion Matrix for Naive Bayes')\n",
    "plt.xlabel('Predicted Label')\n",
    "plt.ylabel('True Label')\n",
    "\n",
    "# Display the plot\n",
    "plt.show()"
   ]
  },
  {
   "cell_type": "code",
   "execution_count": 688,
   "id": "8fb46bf2-7e1f-47c0-a248-ba46d09adb8f",
   "metadata": {},
   "outputs": [
    {
     "data": {
      "image/png": "[encoded data removed]",
      "text/plain": [
       "<Figure size 640x480 with 1 Axes>"
      ]
     },
     "metadata": {},
     "output_type": "display_data"
    }
   ],
   "source": [
    "# Model Accuracy Comparison\n",
    "models = ['Naive Bayes', 'RandomForest']\n",
    "accuracy = [accuracy_score(y_test, y_pred_nb), accuracy_score(y_test, y_pred_rf)]\n",
    "\n",
    "plt.bar(models, accuracy)\n",
    "plt.title('Model Accuracy Comparison')\n",
    "plt.xlabel('Model')\n",
    "plt.ylabel('Accuracy')\n",
    "plt.show()\n"
   ]
  }
 ],
 "metadata": {
  "kernelspec": {
   "display_name": "Python 3 (ipykernel)",
   "language": "python",
   "name": "python3"
  },
  "language_info": {
   "codemirror_mode": {
    "name": "ipython",
    "version": 3
   },
   "file_extension": ".py",
   "mimetype": "text/x-python",
   "name": "python",
   "nbconvert_exporter": "python",
   "pygments_lexer": "ipython3",
   "version": "3.11.5"
  }
 },
 "nbformat": 4,
 "nbformat_minor": 5
}
